{
 "cells": [
  {
   "cell_type": "code",
   "execution_count": 51,
   "metadata": {
    "colab": {
     "base_uri": "https://localhost:8080/",
     "height": 130
    },
    "id": "hUkg4vssogka",
    "outputId": "e4e766c5-0689-4522-a56d-f2055ccb4b8f"
   },
   "outputs": [],
   "source": [
    "%matplotlib inline\n",
    "import numpy as np \n",
    "import torch\n",
    "import torch.nn as nn\n",
    "import torch.nn.functional as F\n",
    "import torch.optim as optim\n",
    "from torchvision import datasets, transforms\n",
    "import matplotlib.pyplot as plt\n",
    "import h5py\n",
    "import cv2 as cv\n",
    "from keras.utils import to_categorical"
   ]
  },
  {
   "cell_type": "markdown",
   "metadata": {},
   "source": [
    "# Loading the Datasets"
   ]
  },
  {
   "cell_type": "code",
   "execution_count": 52,
   "metadata": {},
   "outputs": [
    {
     "name": "stdout",
     "output_type": "stream",
     "text": [
      "<KeysViewHDF5 ['test_dataset', 'train_dataset', 'train_labels']>\n",
      "torch.Size([56000, 64, 64])\n",
      "torch.Size([56000, 5])\n",
      "torch.Size([14000, 64, 64])\n"
     ]
    }
   ],
   "source": [
    "f = h5py.File('MNIST_synthetic.h5', 'r')\n",
    "print(f.keys())\n",
    "\n",
    "X_tr = torch.from_numpy(np.array(f['train_dataset']).astype(np.float32).squeeze()) \n",
    "Y_tr = torch.from_numpy(np.array(f['train_labels'])) #.astype(np.float32)?\n",
    "X_test = torch.from_numpy(np.array(f['test_dataset']).astype(np.float32).squeeze()) \n",
    "\n",
    "X_tr.requires_grad = True\n",
    "#X_test.requires_grad = True\n",
    "\n",
    "print(X_tr.shape)\n",
    "print(Y_tr.shape)\n",
    "print(X_test.shape)\n",
    "\n",
    "# Crop image\n",
    "X_tr = X_tr[:, 26:38,:]\n",
    "X_test = X_test[:,26:38,:]"
   ]
  },
  {
   "cell_type": "markdown",
   "metadata": {},
   "source": [
    "# Helper Method To Retrieve Individual Digits In A Single 64x64 Image"
   ]
  },
  {
   "cell_type": "code",
   "execution_count": 53,
   "metadata": {},
   "outputs": [],
   "source": [
    "# Cong suggested a better way perhaps ? To implement this \n",
    "def retrieveDigits(x_input, nb_Digits): \n",
    "    digits = [] #List of digits of size 12x12 \n",
    "    if nb_Digits == 1 : \n",
    "        digits.append(x_input[:,26:38])\n",
    "    elif nb_Digits == 2 : \n",
    "        digits.append(x_input[:,20:32])\n",
    "        digits.append(x_input[:,32:44])\n",
    "    elif nb_Digits == 3 : \n",
    "        digits.append(x_input[:,14:26])\n",
    "        digits.append(x_input[:,26:38])\n",
    "        digits.append(x_input[:,38:50])\n",
    "    elif nb_Digits == 4 :\n",
    "        digits.append(x_input[:,8:20])\n",
    "        digits.append(x_input[:,20:32])\n",
    "        digits.append(x_input[:,32:44])\n",
    "        digits.append(x_input[:,44:56])\n",
    "    elif nb_Digits == 5: \n",
    "        digits.append(x_input[:, 2:14])\n",
    "        digits.append(x_input[:,14:26])\n",
    "        digits.append(x_input[:,26:38])\n",
    "        digits.append(x_input[:,38:50])\n",
    "        digits.append(x_input[:,50:62])\n",
    "    return digits"
   ]
  },
  {
   "cell_type": "code",
   "execution_count": 54,
   "metadata": {},
   "outputs": [
    {
     "name": "stdout",
     "output_type": "stream",
     "text": [
      "4\n"
     ]
    },
    {
     "data": {
      "image/png": "[encoded data removed]",
      "text/plain": [
       "<Figure size 432x288 with 1 Axes>"
      ]
     },
     "metadata": {
      "needs_background": "light"
     },
     "output_type": "display_data"
    },
    {
     "data": {
      "image/png": "[encoded data removed]",
      "text/plain": [
       "<Figure size 432x288 with 4 Axes>"
      ]
     },
     "metadata": {
      "needs_background": "light"
     },
     "output_type": "display_data"
    },
    {
     "name": "stdout",
     "output_type": "stream",
     "text": [
      "5\n"
     ]
    },
    {
     "data": {
      "image/png": "[encoded data removed]",
      "text/plain": [
       "<Figure size 432x288 with 1 Axes>"
      ]
     },
     "metadata": {
      "needs_background": "light"
     },
     "output_type": "display_data"
    },
    {
     "data": {
      "image/png": "[encoded data removed]",
      "text/plain": [
       "<Figure size 432x288 with 5 Axes>"
      ]
     },
     "metadata": {
      "needs_background": "light"
     },
     "output_type": "display_data"
    },
    {
     "name": "stdout",
     "output_type": "stream",
     "text": [
      "5\n"
     ]
    },
    {
     "data": {
      "image/png": "[encoded data removed]",
      "text/plain": [
       "<Figure size 432x288 with 1 Axes>"
      ]
     },
     "metadata": {
      "needs_background": "light"
     },
     "output_type": "display_data"
    },
    {
     "data": {
      "image/png": "[encoded data removed]",
      "text/plain": [
       "<Figure size 432x288 with 5 Axes>"
      ]
     },
     "metadata": {
      "needs_background": "light"
     },
     "output_type": "display_data"
    },
    {
     "name": "stdout",
     "output_type": "stream",
     "text": [
      "3\n"
     ]
    },
    {
     "data": {
      "image/png": "[encoded data removed]",
      "text/plain": [
       "<Figure size 432x288 with 1 Axes>"
      ]
     },
     "metadata": {
      "needs_background": "light"
     },
     "output_type": "display_data"
    },
    {
     "data": {
      "image/png": "[encoded data removed]",
      "text/plain": [
       "<Figure size 432x288 with 3 Axes>"
      ]
     },
     "metadata": {
      "needs_background": "light"
     },
     "output_type": "display_data"
    },
    {
     "name": "stdout",
     "output_type": "stream",
     "text": [
      "1\n"
     ]
    },
    {
     "data": {
      "image/png": "[encoded data removed]",
      "text/plain": [
       "<Figure size 432x288 with 1 Axes>"
      ]
     },
     "metadata": {
      "needs_background": "light"
     },
     "output_type": "display_data"
    },
    {
     "data": {
      "image/png": "[encoded data removed]",
      "text/plain": [
       "<Figure size 432x288 with 1 Axes>"
      ]
     },
     "metadata": {
      "needs_background": "light"
     },
     "output_type": "display_data"
    },
    {
     "name": "stdout",
     "output_type": "stream",
     "text": [
      "3\n"
     ]
    },
    {
     "data": {
      "image/png": "[encoded data removed]",
      "text/plain": [
       "<Figure size 432x288 with 1 Axes>"
      ]
     },
     "metadata": {
      "needs_background": "light"
     },
     "output_type": "display_data"
    },
    {
     "data": {
      "image/png": "[encoded data removed]",
      "text/plain": [
       "<Figure size 432x288 with 3 Axes>"
      ]
     },
     "metadata": {
      "needs_background": "light"
     },
     "output_type": "display_data"
    }
   ],
   "source": [
    "# Example visualization : \n",
    "for i in np.arange(6): \n",
    "    testImage = X_tr[i]\n",
    "    nbDigits = 5-(Y_tr[i]==10).sum().item()\n",
    "    digits = retrieveDigits(testImage, nbDigits)\n",
    "    print(nbDigits)\n",
    "    \n",
    "    fig, ax0 = plt.subplots()\n",
    "    with torch.no_grad():\n",
    "        ax0.imshow(testImage, cmap='gray')\n",
    "    \n",
    "    if nbDigits ==1 : \n",
    "        fig2, ax = plt.subplots()\n",
    "        with torch.no_grad(): \n",
    "            ax.imshow(digits[0],cmap='gray')\n",
    "    else: \n",
    "        fig2, axs = plt.subplots(1,nbDigits)\n",
    "        for ax in np.arange(0,nbDigits): \n",
    "            with torch.no_grad(): \n",
    "                axs[ax].imshow(digits[ax], cmap='gray')\n",
    "    \n",
    "    plt.show()"
   ]
  },
  {
   "cell_type": "markdown",
   "metadata": {},
   "source": [
    "# Use openCV To Count Number Of Digits In An Image Instance. \n",
    "Don't know if we actually need to implement a HELPER CNN model... Could we use openCV to achieve this?"
   ]
  },
  {
   "cell_type": "code",
   "execution_count": 55,
   "metadata": {},
   "outputs": [
    {
     "name": "stdout",
     "output_type": "stream",
     "text": [
      "tensor([[4],\n",
      "        [5],\n",
      "        [5],\n",
      "        [3],\n",
      "        [1],\n",
      "        [3]], dtype=torch.int32)\n"
     ]
    }
   ],
   "source": [
    "Y_tr_NbOfDigits = torch.zeros(Y_tr.shape[0], 1, dtype=Y_tr.dtype) + 5\n",
    "for i in range(Y_tr.shape[0]): \n",
    "    Y_tr_NbOfDigits[i] -= (Y_tr[i]==10).sum()\n",
    "print(Y_tr_NbOfDigits[:6])"
   ]
  },
  {
   "cell_type": "markdown",
   "metadata": {},
   "source": [
    "## Write the Helper Method Using findContour And Adjusting Image "
   ]
  },
  {
   "cell_type": "code",
   "execution_count": 56,
   "metadata": {},
   "outputs": [],
   "source": [
    "def nbOfDigitsInImage(originalImage,visualize=False): \n",
    "    image = originalImage.detach().numpy()[:,:,np.newaxis].astype(np.uint8)\n",
    "    image_blur = cv.GaussianBlur(image, (5,5), 0)[:,:,np.newaxis]\n",
    "    _,image_thresh= cv.threshold(image_blur, 20, 255, cv.THRESH_BINARY)\n",
    "    \n",
    "    contours, hierarchy= cv.findContours(image_thresh.copy(), cv.RETR_EXTERNAL, cv.CHAIN_APPROX_NONE)\n",
    "    nbDigits = len(contours)\n",
    "    \n",
    "    #Checking to see if our contour is too small: we may have dot-shaped noises in the contour sometimes that we \n",
    "    #shouldn't count as contours \n",
    "    for i in range(len(contours)): \n",
    "        if contours[i].shape[0]<10: \n",
    "            nbDigits-=1\n",
    "    \n",
    "    #This fixes some digits that are put in as one contour because they are too close to each other \n",
    "    for i in range(len(contours)): \n",
    "        contour = contours[i]\n",
    "        minX = 10000\n",
    "        maxX = -10000\n",
    "        for pixel in range(contour.shape[0]): \n",
    "            if contour[pixel, 0, 0] < minX : \n",
    "                minX = contour[pixel, 0, 0]\n",
    "            if contour[pixel, 0, 0] > maxX :\n",
    "                maxX = contour[pixel, 0, 0]\n",
    "        if maxX-minX >12: \n",
    "            nbDigits+=1\n",
    "            \n",
    "\n",
    "    if visualize: \n",
    "        # For visualization\n",
    "        fig, axs = plt.subplots(3)\n",
    "        axs[0].set_title('Original Image')\n",
    "        axs[0].imshow(image[:,:,0], cmap='gray')\n",
    "\n",
    "        axs[1].set_title('Blurred Image')\n",
    "        axs[1].imshow(image_blur[:,:,0], cmap='gray')\n",
    "\n",
    "        image_thresh = image_thresh[:,:,np.newaxis]\n",
    "        axs[2].set_title('Threshold Applied')\n",
    "        axs[2].imshow(image_thresh[:,:,0], cmap='gray')\n",
    "        print(len(contours), 'digits in this instance!')\n",
    "        plt.show()\n",
    "        \n",
    "    if nbDigits>5: \n",
    "        return 5\n",
    "    else: \n",
    "        return nbDigits"
   ]
  },
  {
   "cell_type": "code",
   "execution_count": 57,
   "metadata": {},
   "outputs": [
    {
     "name": "stdout",
     "output_type": "stream",
     "text": [
      "Wrong instances:  0\n",
      "Error rate:  0.0  %\n"
     ]
    }
   ],
   "source": [
    "# NOTE: MAYBE WE CAN DO BETTER BY ADJUSTING PARAMETERS IN ABOVE FUNCTION, BUT LET'S PROCEED ON FOR NOW \n",
    "total = X_tr.shape[0]\n",
    "wrong = 0\n",
    "visualizeWrongPredictions = 3\n",
    "noisyIndexes = []\n",
    "\n",
    "for im in range(total): \n",
    "    if nbOfDigitsInImage(X_tr[im]) != Y_tr_NbOfDigits[im]: \n",
    "        noisyIndexes.append(im)\n",
    "        wrong += 1\n",
    "        if visualizeWrongPredictions>0: \n",
    "            nbOfDigitsInImage(X_tr[im], visualize=True) #Visualize some of the wrong results\n",
    "            visualizeWrongPredictions-=1\n",
    "\n",
    "print(\"Wrong instances: \", wrong)\n",
    "print(\"Error rate: \",(wrong/total)*100, \" %\")"
   ]
  },
  {
   "cell_type": "markdown",
   "metadata": {},
   "source": [
    "# Final Pre-Processing Of Data "
   ]
  },
  {
   "cell_type": "markdown",
   "metadata": {},
   "source": [
    "## Remove the noisy data in our training set to facilitate training of our CNN digit classifier. "
   ]
  },
  {
   "cell_type": "code",
   "execution_count": 58,
   "metadata": {
    "scrolled": true
   },
   "outputs": [
    {
     "name": "stdout",
     "output_type": "stream",
     "text": [
      "torch.Size([56000, 12, 64])\n",
      "torch.Size([56000, 5])\n",
      "torch.Size([56000, 1])\n"
     ]
    }
   ],
   "source": [
    "X_tr = np.delete(X_tr.detach(), noisyIndexes, axis=0)\n",
    "Y_tr = np.delete(Y_tr, noisyIndexes, axis=0)\n",
    "Y_tr_NbOfDigits = np.delete(Y_tr_NbOfDigits, noisyIndexes, axis=0)\n",
    "\n",
    "print(X_tr.shape)\n",
    "print(Y_tr.shape)\n",
    "print(Y_tr_NbOfDigits.shape)"
   ]
  },
  {
   "cell_type": "code",
   "execution_count": 59,
   "metadata": {},
   "outputs": [
    {
     "name": "stdout",
     "output_type": "stream",
     "text": [
      "torch.Size([55999, 12, 64])\n",
      "torch.Size([55999, 5])\n",
      "torch.Size([55999, 1])\n",
      "torch.Size([1, 12, 64])\n",
      "torch.Size([1, 5])\n",
      "torch.Size([1, 1])\n"
     ]
    }
   ],
   "source": [
    "# \n",
    "X_validation = X_tr[55999:]\n",
    "Y_validation = Y_tr[55999:]\n",
    "Y_val_NbOfDigits = Y_tr_NbOfDigits[55999:]\n",
    "\n",
    "X_training = X_tr[:55999]\n",
    "Y_training = Y_tr[:55999]\n",
    "Y_tr_NbOfDigits=Y_tr_NbOfDigits[:55999]\n",
    "\n",
    "train = torch.utils.data.TensorDataset(X_training,Y_training)\n",
    "train_loader = torch.utils.data.DataLoader(train, batch_size = 4, shuffle = False)\n",
    "\n",
    "print(X_training.shape)\n",
    "print(Y_training.shape)\n",
    "print(Y_tr_NbOfDigits.shape)\n",
    "print(X_validation.shape)\n",
    "print(Y_validation.shape)\n",
    "print(Y_val_NbOfDigits.shape)"
   ]
  },
  {
   "cell_type": "markdown",
   "metadata": {},
   "source": [
    "## Resize Training Data And Labels"
   ]
  },
  {
   "cell_type": "code",
   "execution_count": 60,
   "metadata": {},
   "outputs": [
    {
     "name": "stdout",
     "output_type": "stream",
     "text": [
      "torch.Size([167885, 1, 12, 12])\n",
      "torch.Size([167885])\n"
     ]
    }
   ],
   "source": [
    "trainingDigits = []\n",
    "trainingLabels = []\n",
    "for i in range(X_training.shape[0]): \n",
    "    digits = retrieveDigits(X_training[i], Y_tr_NbOfDigits[i])\n",
    "    for image in range(len(digits)): \n",
    "        trainingDigits.append(digits[image].numpy())\n",
    "    for label in range(Y_tr_NbOfDigits[i]): \n",
    "        trainingLabels.append(Y_tr[i][label])\n",
    "\n",
    "X_Training_CNN = torch.FloatTensor(trainingDigits)\n",
    "X_Training_CNN = X_Training_CNN.reshape((X_Training_CNN.shape[0],1,X_Training_CNN.shape[1],X_Training_CNN.shape[2]))\n",
    "print(X_Training_CNN.shape)\n",
    "\n",
    "Y_Training_CNN = torch.LongTensor(trainingLabels)\n",
    "print(Y_Training_CNN.shape)"
   ]
  },
  {
   "cell_type": "markdown",
   "metadata": {},
   "source": [
    "## Resize Validation Data And Labels"
   ]
  },
  {
   "cell_type": "code",
   "execution_count": 61,
   "metadata": {},
   "outputs": [
    {
     "name": "stdout",
     "output_type": "stream",
     "text": [
      "torch.Size([1, 1, 12, 12])\n"
     ]
    }
   ],
   "source": [
    "Y_val_NbOfDigits = torch.zeros(X_validation.shape[0],1).int()\n",
    "\n",
    "for i in range(X_validation.shape[0]): \n",
    "    Y_val_NbOfDigits[i] = nbOfDigitsInImage(X_validation[i])\n",
    "    \n",
    "validationDigits = []\n",
    "for i in range(X_validation.shape[0]): \n",
    "    digits = retrieveDigits(X_validation[i], Y_val_NbOfDigits[i])\n",
    "    for image in range(len(digits)): \n",
    "        validationDigits.append(digits[image].numpy())\n",
    "\n",
    "X_Validation_CNN = torch.FloatTensor(validationDigits)\n",
    "X_Validation_CNN = X_Validation_CNN.reshape((X_Validation_CNN.shape[0],1,X_Validation_CNN.shape[1],X_Validation_CNN.shape[2]))\n",
    "print(X_Validation_CNN.shape)"
   ]
  },
  {
   "cell_type": "markdown",
   "metadata": {},
   "source": [
    "# Create a CNN Model To Do Single Digit Multi-Classification "
   ]
  },
  {
   "cell_type": "markdown",
   "metadata": {},
   "source": [
    "## Model"
   ]
  },
  {
   "cell_type": "code",
   "execution_count": 62,
   "metadata": {},
   "outputs": [],
   "source": [
    "# Define a convolutional neural network\n",
    "# Note: Should probably normalize our data too, as well as one-hot the label targets? \n",
    "# 12x12 single digit --> [...] single digit classification \n",
    "class Net(nn.Module): \n",
    "    def __init__(self):\n",
    "        super(Net,self).__init__()\n",
    "        self.conv1 = nn.Conv2d(1, 6, 3) # First layer has one input channel since it is a 12x12 grayscale image \n",
    "        self.conv2 = nn.Conv2d(6,16, 3) # Trying a different kernel size for conv2. \n",
    "        self.fc1 = nn.Linear(16 * 4*4, 80)\n",
    "        self.fc2 = nn.Linear(80, 10)\n",
    "        \n",
    "    def forward(self, x): \n",
    "        x = F.relu(self.conv1(x))\n",
    "        x = F.max_pool2d(F.relu(self.conv2(x)),2)\n",
    "        x = x.view(-1, 16 * 4 * 4)\n",
    "        x = F.relu(self.fc1(x))\n",
    "        x = self.fc2(x)\n",
    "        return x\n",
    "    "
   ]
  },
  {
   "cell_type": "markdown",
   "metadata": {},
   "source": [
    "## Training And Validation Dataset Loader "
   ]
  },
  {
   "cell_type": "code",
   "execution_count": 63,
   "metadata": {},
   "outputs": [],
   "source": [
    "#TODO \n",
    "# Training was taking too long, so decided to use a subset of the entire training dataset\n",
    "train_CNN = torch.utils.data.TensorDataset(X_Training_CNN[:],Y_Training_CNN[:])\n",
    "train_loader_CNN = torch.utils.data.DataLoader(train_CNN, batch_size = 4, shuffle = True)\n",
    "net = Net()"
   ]
  },
  {
   "cell_type": "markdown",
   "metadata": {},
   "source": [
    "## Define a Loss Function And Optimizer"
   ]
  },
  {
   "cell_type": "code",
   "execution_count": 64,
   "metadata": {},
   "outputs": [],
   "source": [
    "criterion = nn.CrossEntropyLoss()\n",
    "optimizer = optim.SGD(net.parameters(), lr=0.001)"
   ]
  },
  {
   "cell_type": "markdown",
   "metadata": {},
   "source": [
    "## Accuracy Measure"
   ]
  },
  {
   "cell_type": "code",
   "execution_count": 65,
   "metadata": {},
   "outputs": [],
   "source": [
    "def getAccuracy(output, Y_nbOfDigits, Y):\n",
    "    groupedPrediction = torch.zeros(Y_nbOfDigits.shape[0],5)\n",
    "    groupedPrediction += 10 \n",
    "\n",
    "    i=0\n",
    "    for label in range(groupedPrediction.shape[0]): \n",
    "        nbDigits = Y_nbOfDigits[label]\n",
    "        for digit in range(nbDigits): \n",
    "            groupedPrediction[label, digit] = output[i]\n",
    "            i+=1\n",
    "\n",
    "    groupedPrediction = groupedPrediction.int()\n",
    "    wrong = 0 \n",
    "    for prediction in range(groupedPrediction.shape[0]): \n",
    "        if not torch.equal(groupedPrediction[prediction], Y[prediction]):\n",
    "            wrong+=1\n",
    "            \n",
    "    return (1 - (wrong/groupedPrediction.shape[0]))"
   ]
  },
  {
   "cell_type": "markdown",
   "metadata": {},
   "source": [
    "## Training"
   ]
  },
  {
   "cell_type": "code",
   "execution_count": 66,
   "metadata": {},
   "outputs": [
    {
     "name": "stdout",
     "output_type": "stream",
     "text": [
      "0\n",
      "1\n",
      "2\n",
      "3\n",
      "4\n",
      "5\n",
      "6\n",
      "7\n",
      "8\n",
      "9\n",
      "10\n",
      "11\n",
      "12\n",
      "13\n",
      "14\n",
      "15\n",
      "16\n",
      "17\n",
      "18\n",
      "19\n",
      "20\n",
      "21\n",
      "22\n",
      "23\n",
      "24\n",
      "25\n",
      "26\n",
      "27\n",
      "28\n",
      "29\n",
      "30\n",
      "31\n",
      "32\n",
      "33\n",
      "34\n",
      "35\n",
      "36\n",
      "37\n",
      "38\n",
      "39\n",
      "40\n",
      "41\n",
      "42\n",
      "43\n",
      "44\n",
      "45\n",
      "46\n",
      "47\n",
      "48\n",
      "49\n",
      "50\n",
      "51\n",
      "52\n",
      "53\n",
      "54\n",
      "55\n",
      "56\n",
      "57\n",
      "58\n",
      "59\n",
      "60\n",
      "61\n",
      "62\n",
      "63\n",
      "64\n",
      "65\n",
      "66\n",
      "67\n",
      "68\n",
      "69\n",
      "70\n",
      "71\n",
      "72\n",
      "73\n",
      "74\n",
      "75\n",
      "76\n",
      "77\n",
      "78\n",
      "79\n",
      "Finished training\n"
     ]
    }
   ],
   "source": [
    "X_Training_CNN.requires_grad = True\n",
    "\n",
    "trainingAccuracy = []\n",
    "validationAccuracy = []\n",
    "maxValAcc = 0 \n",
    "\n",
    "for epoch in range(80): \n",
    "    print(epoch)\n",
    "    \n",
    "    # Report the validation and train performance of your best performing model as a function of training epochs.\n",
    "    with torch.no_grad(): \n",
    "        tr_output = net(X_Training_CNN)\n",
    "        _, tr_predicted = torch.max(tr_output.data, 1)\n",
    "        trainingAccuracy.append(getAccuracy(tr_predicted, Y_tr_NbOfDigits, Y_training))\n",
    "        \n",
    "        val_output = net(X_Validation_CNN)\n",
    "        _, val_predicted = torch.max(val_output.data, 1)\n",
    "        currentValAcc = getAccuracy(val_predicted, Y_val_NbOfDigits, Y_validation)\n",
    "        validationAccuracy.append(currentValAcc)\n",
    "        \n",
    "        if currentValAcc > maxValAcc : \n",
    "            PATH = './MNIST_net.pth'\n",
    "            torch.save(net.state_dict(), PATH)\n",
    "            maxValAcc = currentValAcc\n",
    "        \n",
    "    # Optimizing step, updating the weights \n",
    "    for i, data in enumerate(train_loader_CNN, 0):\n",
    "        inputs, labels = data\n",
    "        \n",
    "        # zero the parameter gradients\n",
    "        optimizer.zero_grad()\n",
    "        \n",
    "        # forward + backward + optimize\n",
    "        outputs = net(inputs)\n",
    "        loss = criterion(outputs, labels)\n",
    "        loss.backward()\n",
    "        optimizer.step()\n",
    "        \n",
    "print(\"Finished training\")"
   ]
  },
  {
   "cell_type": "code",
   "execution_count": 67,
   "metadata": {},
   "outputs": [
    {
     "name": "stdout",
     "output_type": "stream",
     "text": [
      "[0.04151859854640261, 0.9495705280451436, 0.9607314416328863, 0.9719459276058501, 0.9569813746674047, 0.9855711709137663, 0.9898033893462383, 0.985374738834622, 0.9884819371774496, 0.991999857140306, 0.9802139323916499, 0.9917677101376811, 0.9924820086072965, 0.9903569706601903, 0.9929284451508062, 0.9872854872408436, 0.995124912944874, 0.9982678262111824, 0.9960177860318934, 0.9950713405596529, 0.9953392024857587, 0.9975535277415668, 0.9968570867336917, 0.9984999732138073, 0.9873212021643244, 0.9965892248075858, 0.9980892515937785, 0.9987321202164324, 0.9996607082269326, 0.9991428418364614, 0.9996964231504134, 0.9999642850765192, 1.0, 0.9999821425382596, 0.9998749977678173, 1.0, 1.0, 1.0, 1.0, 1.0, 1.0, 1.0, 1.0, 1.0, 1.0, 1.0, 1.0, 1.0, 1.0, 1.0, 1.0, 1.0, 1.0, 1.0, 1.0, 1.0, 1.0, 1.0, 1.0, 1.0, 1.0, 1.0, 1.0, 1.0, 1.0, 1.0, 1.0, 1.0, 1.0, 1.0, 1.0, 1.0, 1.0, 1.0, 1.0, 1.0, 1.0, 1.0, 1.0, 1.0]\n",
      "[0.0, 1.0, 1.0, 1.0, 1.0, 1.0, 1.0, 1.0, 1.0, 1.0, 1.0, 1.0, 1.0, 1.0, 1.0, 1.0, 1.0, 1.0, 1.0, 1.0, 1.0, 1.0, 1.0, 1.0, 1.0, 1.0, 1.0, 1.0, 1.0, 1.0, 1.0, 1.0, 1.0, 1.0, 1.0, 1.0, 1.0, 1.0, 1.0, 1.0, 1.0, 1.0, 1.0, 1.0, 1.0, 1.0, 1.0, 1.0, 1.0, 1.0, 1.0, 1.0, 1.0, 1.0, 1.0, 1.0, 1.0, 1.0, 1.0, 1.0, 1.0, 1.0, 1.0, 1.0, 1.0, 1.0, 1.0, 1.0, 1.0, 1.0, 1.0, 1.0, 1.0, 1.0, 1.0, 1.0, 1.0, 1.0, 1.0, 1.0]\n",
      "1.0\n"
     ]
    },
    {
     "data": {
      "image/png": "[encoded data removed]",
      "text/plain": [
       "<Figure size 792x432 with 1 Axes>"
      ]
     },
     "metadata": {
      "needs_background": "light"
     },
     "output_type": "display_data"
    }
   ],
   "source": [
    "from matplotlib.pyplot import figure\n",
    "print(trainingAccuracy)\n",
    "print(validationAccuracy)\n",
    "plt.figure(figsize=(11, 6))\n",
    "plt.plot(trainingAccuracy[1:], label='Training')\n",
    "plt.plot(validationAccuracy[1:], label='Validation')\n",
    "plt.xlabel('Epoch')\n",
    "plt.ylabel('Accuracy')\n",
    "plt.legend()\n",
    "plt.show\n",
    "print(max(validationAccuracy))"
   ]
  },
  {
   "cell_type": "markdown",
   "metadata": {},
   "source": [
    "## Saving/Loading Trained Models"
   ]
  },
  {
   "cell_type": "code",
   "execution_count": 68,
   "metadata": {},
   "outputs": [],
   "source": [
    "# Path name. \n",
    "# Be careful to not overwrite \n",
    "PATH = './MNIST_net2.pth'"
   ]
  },
  {
   "cell_type": "code",
   "execution_count": 69,
   "metadata": {},
   "outputs": [],
   "source": [
    "# Saving model \n",
    "torch.save(net.state_dict(), PATH)"
   ]
  },
  {
   "cell_type": "code",
   "execution_count": null,
   "metadata": {},
   "outputs": [],
   "source": [
    "# Loading Model \n",
    "net = Net()\n",
    "net.load_state_dict(torch.load(PATH))\n",
    "net.eval()"
   ]
  },
  {
   "cell_type": "markdown",
   "metadata": {},
   "source": [
    "# Apply Our Model To Testing Data And Get Results"
   ]
  },
  {
   "cell_type": "code",
   "execution_count": 70,
   "metadata": {},
   "outputs": [
    {
     "name": "stdout",
     "output_type": "stream",
     "text": [
      "torch.Size([42114, 1, 12, 12])\n",
      "torch.Size([14000, 1])\n"
     ]
    }
   ],
   "source": [
    "Y_test_NbOfDigits = torch.zeros(X_test.shape[0],1).int()\n",
    "for i in range(X_test.shape[0]): \n",
    "    Y_test_NbOfDigits[i] = nbOfDigitsInImage(X_test[i])\n",
    "\n",
    "testDigits = []\n",
    "for i in range(X_test.shape[0]): \n",
    "    digits = retrieveDigits(X_test[i], Y_test_NbOfDigits[i])\n",
    "    for image in range(len(digits)): \n",
    "        testDigits.append(digits[image].numpy())\n",
    "\n",
    "\n",
    "X_test_CNN = torch.FloatTensor(testDigits)\n",
    "X_test_CNN = X_test_CNN.reshape((X_test_CNN.shape[0],1,X_test_CNN.shape[1], X_test_CNN.shape[2]))\n",
    "print(X_test_CNN.shape)\n",
    "print(Y_test_NbOfDigits.shape)"
   ]
  },
  {
   "cell_type": "code",
   "execution_count": 71,
   "metadata": {},
   "outputs": [],
   "source": [
    "with torch.no_grad(): \n",
    "        test_output = net(X_test_CNN)\n",
    "        _, test_predicted = torch.max(test_output.data, 1)"
   ]
  },
  {
   "cell_type": "code",
   "execution_count": 72,
   "metadata": {},
   "outputs": [
    {
     "name": "stdout",
     "output_type": "stream",
     "text": [
      "torch.Size([42114])\n"
     ]
    }
   ],
   "source": [
    "print(test_predicted.shape)"
   ]
  },
  {
   "cell_type": "code",
   "execution_count": 73,
   "metadata": {},
   "outputs": [
    {
     "name": "stdout",
     "output_type": "stream",
     "text": [
      "torch.Size([14000, 5])\n"
     ]
    }
   ],
   "source": [
    "groupedPrediction = torch.zeros(Y_test_NbOfDigits.shape[0],5)\n",
    "groupedPrediction += 10 \n",
    "i = 0 \n",
    "for label in range(groupedPrediction.shape[0]): \n",
    "    nbDigits = Y_test_NbOfDigits[label]\n",
    "    for digit in range(nbDigits):\n",
    "        groupedPrediction[label,digit] = test_predicted[i]\n",
    "        i+=1\n",
    "\n",
    "groupedPrediction = groupedPrediction.int()\n",
    "print(groupedPrediction.shape)"
   ]
  },
  {
   "cell_type": "markdown",
   "metadata": {},
   "source": [
    "Sneek peek :)"
   ]
  },
  {
   "cell_type": "code",
   "execution_count": 42,
   "metadata": {},
   "outputs": [
    {
     "name": "stdout",
     "output_type": "stream",
     "text": [
      "tensor([ 9, 10, 10, 10, 10], dtype=torch.int32)\n"
     ]
    },
    {
     "data": {
      "image/png": "[encoded data removed]",
      "text/plain": [
       "<Figure size 432x288 with 1 Axes>"
      ]
     },
     "metadata": {
      "needs_background": "light"
     },
     "output_type": "display_data"
    },
    {
     "name": "stdout",
     "output_type": "stream",
     "text": [
      "tensor([ 0,  1,  7,  3, 10], dtype=torch.int32)\n"
     ]
    },
    {
     "data": {
      "image/png": "[encoded data removed]",
      "text/plain": [
       "<Figure size 432x288 with 1 Axes>"
      ]
     },
     "metadata": {
      "needs_background": "light"
     },
     "output_type": "display_data"
    },
    {
     "name": "stdout",
     "output_type": "stream",
     "text": [
      "tensor([1, 4, 0, 8, 3], dtype=torch.int32)\n"
     ]
    },
    {
     "data": {
      "image/png": "[encoded data removed]",
      "text/plain": [
       "<Figure size 432x288 with 1 Axes>"
      ]
     },
     "metadata": {
      "needs_background": "light"
     },
     "output_type": "display_data"
    },
    {
     "name": "stdout",
     "output_type": "stream",
     "text": [
      "tensor([ 0, 10, 10, 10, 10], dtype=torch.int32)\n"
     ]
    },
    {
     "data": {
      "image/png": "[encoded data removed]",
      "text/plain": [
       "<Figure size 432x288 with 1 Axes>"
      ]
     },
     "metadata": {
      "needs_background": "light"
     },
     "output_type": "display_data"
    },
    {
     "name": "stdout",
     "output_type": "stream",
     "text": [
      "tensor([ 4,  6,  7,  8, 10], dtype=torch.int32)\n"
     ]
    },
    {
     "data": {
      "image/png": "[encoded data removed]",
      "text/plain": [
       "<Figure size 432x288 with 1 Axes>"
      ]
     },
     "metadata": {
      "needs_background": "light"
     },
     "output_type": "display_data"
    },
    {
     "name": "stdout",
     "output_type": "stream",
     "text": [
      "tensor([ 0, 10, 10, 10, 10], dtype=torch.int32)\n"
     ]
    },
    {
     "data": {
      "image/png": "[encoded data removed]",
      "text/plain": [
       "<Figure size 432x288 with 1 Axes>"
      ]
     },
     "metadata": {
      "needs_background": "light"
     },
     "output_type": "display_data"
    },
    {
     "name": "stdout",
     "output_type": "stream",
     "text": [
      "tensor([ 6,  9,  2, 10, 10], dtype=torch.int32)\n"
     ]
    },
    {
     "data": {
      "image/png": "[encoded data removed]",
      "text/plain": [
       "<Figure size 432x288 with 1 Axes>"
      ]
     },
     "metadata": {
      "needs_background": "light"
     },
     "output_type": "display_data"
    },
    {
     "name": "stdout",
     "output_type": "stream",
     "text": [
      "tensor([ 3,  7, 10, 10, 10], dtype=torch.int32)\n"
     ]
    },
    {
     "data": {
      "image/png": "[encoded data removed]",
      "text/plain": [
       "<Figure size 432x288 with 1 Axes>"
      ]
     },
     "metadata": {
      "needs_background": "light"
     },
     "output_type": "display_data"
    },
    {
     "name": "stdout",
     "output_type": "stream",
     "text": [
      "tensor([4, 8, 2, 6, 7], dtype=torch.int32)\n"
     ]
    },
    {
     "data": {
      "image/png": "[encoded data removed]",
      "text/plain": [
       "<Figure size 432x288 with 1 Axes>"
      ]
     },
     "metadata": {
      "needs_background": "light"
     },
     "output_type": "display_data"
    },
    {
     "name": "stdout",
     "output_type": "stream",
     "text": [
      "tensor([ 9,  6,  6,  0, 10], dtype=torch.int32)\n"
     ]
    },
    {
     "data": {
      "image/png": "[encoded data removed]",
      "text/plain": [
       "<Figure size 432x288 with 1 Axes>"
      ]
     },
     "metadata": {
      "needs_background": "light"
     },
     "output_type": "display_data"
    }
   ],
   "source": [
    "for i in np.arange(10): \n",
    "    testImage = X_test[i]\n",
    "    fig, ax0 = plt.subplots()\n",
    "    ax0.imshow(testImage, cmap='gray')\n",
    "    print(groupedPrediction[i])\n",
    "    plt.show()"
   ]
  },
  {
   "cell_type": "markdown",
   "metadata": {},
   "source": [
    "## Formatting Into CSV And Saving Results"
   ]
  },
  {
   "cell_type": "code",
   "execution_count": 74,
   "metadata": {},
   "outputs": [],
   "source": [
    "import csv\n",
    "with open('testResults5.csv', 'w', newline='') as file:\n",
    "    writer = csv.writer(file)\n",
    "    writer.writerow([\"Id\", \"Label\"])\n",
    "    for i in range(groupedPrediction.shape[0]): \n",
    "        res_String = \"\"\n",
    "        pred = groupedPrediction[i].numpy().astype(np.str)\n",
    "        for j in range(pred.shape[0]): \n",
    "            res_String+=pred[j]\n",
    "        writer.writerow([i, res_String])"
   ]
  },
  {
   "cell_type": "code",
   "execution_count": null,
   "metadata": {},
   "outputs": [],
   "source": []
  }
 ],
 "metadata": {
  "colab": {
   "collapsed_sections": [],
   "name": "COMP551_Project3.ipynb",
   "provenance": []
  },
  "kernelspec": {
   "display_name": "Python 3",
   "language": "python",
   "name": "python3"
  },
  "language_info": {
   "codemirror_mode": {
    "name": "ipython",
    "version": 3
   },
   "file_extension": ".py",
   "mimetype": "text/x-python",
   "name": "python",
   "nbconvert_exporter": "python",
   "pygments_lexer": "ipython3",
   "version": "3.8.5"
  }
 },
 "nbformat": 4,
 "nbformat_minor": 1
}
